{
 "cells": [
  {
   "cell_type": "markdown",
   "metadata": {},
   "source": [
    "# **Homework 5 - Visit the Wikipedia hyperlinks graph!**"
   ]
  },
  {
   "cell_type": "code",
   "execution_count": 1,
   "metadata": {},
   "outputs": [
    {
     "data": {
      "text/plain": [
       "<module 'functions' from 'C:\\\\Users\\\\user\\\\ADM\\\\hw5\\\\Hw5-Gr10-master\\\\functions.py'>"
      ]
     },
     "execution_count": 1,
     "metadata": {},
     "output_type": "execute_result"
    }
   ],
   "source": [
    "from collections import defaultdict\n",
    "import networkx as nx\n",
    "import pandas as pd\n",
    "import operator\n",
    "import math\n",
    "import os \n",
    "import json\n",
    "import numpy as np\n",
    "import functions as fn\n",
    "import importlib\n",
    "importlib.reload(fn)"
   ]
  },
  {
   "cell_type": "markdown",
   "metadata": {},
   "source": [
    "- We create a graph from the 'wiki-topcats-categories.txt' file. \n",
    "- From all categories, we will only take into account those with at least 3500 articles. \n"
   ]
  },
  {
   "cell_type": "code",
   "execution_count": 2,
   "metadata": {},
   "outputs": [],
   "source": [
    "G, cat_dict = fn.create_graph()"
   ]
  },
  {
   "cell_type": "markdown",
   "metadata": {},
   "source": [
    "- Remove all nodes with no edges. \n",
    "- Re-check all categories have more than 3500 articles"
   ]
  },
  {
   "cell_type": "code",
   "execution_count": 3,
   "metadata": {},
   "outputs": [],
   "source": [
    "#remove nodes with no edges and keep only categories with more than 3500 nodes\n",
    "for c in cat_dict: \n",
    "    for nodes in cat_dict[c]: \n",
    "        if len(list(nx.neighbors(G,nodes))) == 0: \n",
    "            #G.remove_node(g)\n",
    "            cat_dict[c].remove(nodes)            \n",
    "cat_dict = {c: cat_dict[c] for c in cat_dict if len(cat_dict[c]) >= 3500}"
   ]
  },
  {
   "cell_type": "markdown",
   "metadata": {},
   "source": [
    "cat_dict contains the category as key and the nodes as value"
   ]
  },
  {
   "cell_type": "markdown",
   "metadata": {},
   "source": [
    "We have a directed graph. \n",
    "- Number of nodes:  $n$"
   ]
  },
  {
   "cell_type": "code",
   "execution_count": 5,
   "metadata": {},
   "outputs": [
    {
     "data": {
      "text/plain": [
       "546237"
      ]
     },
     "execution_count": 5,
     "metadata": {},
     "output_type": "execute_result"
    }
   ],
   "source": [
    "G.number_of_nodes()"
   ]
  },
  {
   "cell_type": "markdown",
   "metadata": {},
   "source": [
    "- Number of edges: $m$"
   ]
  },
  {
   "cell_type": "code",
   "execution_count": 6,
   "metadata": {},
   "outputs": [
    {
     "data": {
      "text/plain": [
       "2645247"
      ]
     },
     "execution_count": 6,
     "metadata": {},
     "output_type": "execute_result"
    }
   ],
   "source": [
    "G.size()"
   ]
  },
  {
   "cell_type": "markdown",
   "metadata": {},
   "source": [
    "- Average number of degree: $$ \\frac{m}{n} $$"
   ]
  },
  {
   "cell_type": "code",
   "execution_count": 7,
   "metadata": {},
   "outputs": [
    {
     "data": {
      "text/plain": [
       "4.842672686031888"
      ]
     },
     "execution_count": 7,
     "metadata": {},
     "output_type": "execute_result"
    }
   ],
   "source": [
    "G.size() / G.number_of_nodes()"
   ]
  },
  {
   "cell_type": "markdown",
   "metadata": {},
   "source": [
    "- Graph density:\n",
    "$$\\frac{m}{n(n-1)}$$"
   ]
  },
  {
   "cell_type": "code",
   "execution_count": 8,
   "metadata": {},
   "outputs": [
    {
     "data": {
      "text/plain": [
       "8.865531905681586e-06"
      ]
     },
     "execution_count": 8,
     "metadata": {},
     "output_type": "execute_result"
    }
   ],
   "source": [
    "nx.density(G)"
   ]
  },
  {
   "cell_type": "markdown",
   "metadata": {},
   "source": [
    "## Shortest Path \n",
    "\n",
    "Our task here is to find the shortest path from C0 to Ci; where C0 is an input category and Ci is the rest of the categories. We have used Dijkstra's algorithm."
   ]
  },
  {
   "cell_type": "markdown",
   "metadata": {},
   "source": [
    "Running the shortest path algorithm for all the nodes and categories takes too much time. Therefore we have selected a small portion of it to show how the algorithm works. \n",
    "- We will take into account 10 categories and 500 nodes from each. For maximum effect we have choosen nodes with high links. "
   ]
  },
  {
   "cell_type": "code",
   "execution_count": 45,
   "metadata": {},
   "outputs": [],
   "source": [
    "cat_ten = fn.ten_category(cat_dict)"
   ]
  },
  {
   "cell_type": "code",
   "execution_count": 23,
   "metadata": {},
   "outputs": [],
   "source": [
    "with open('category_10.json')as f: \n",
    "    cat_ten = json.load(f)"
   ]
  },
  {
   "cell_type": "markdown",
   "metadata": {},
   "source": [
    "An article may belong to multiple categories,\n",
    "- If the article belongs to the input cateogry and other categories, it belongs to that input category\n",
    "- Other wise it belongs to the category closest to the input category\n",
    "\n",
    "The first category is considered as the input category"
   ]
  },
  {
   "cell_type": "code",
   "execution_count": 10,
   "metadata": {},
   "outputs": [],
   "source": [
    "cat_ten = fn.remove_duplicates(cat_ten)"
   ]
  },
  {
   "cell_type": "markdown",
   "metadata": {},
   "source": [
    "Set up for the shortest path algorithm. "
   ]
  },
  {
   "cell_type": "code",
   "execution_count": 11,
   "metadata": {},
   "outputs": [],
   "source": [
    "with open('category_10.json')as f: \n",
    "    cat_ten = json.load(f)\n",
    "temp = []\n",
    "for c in list(cat_ten.keys()): \n",
    "    temp.append(cat_ten[c])    \n",
    "destination_nodes = []\n",
    "for i in temp:\n",
    "    for n in i: \n",
    "        destination_nodes.append(n)\n",
    "initial_nodes = cat_ten['English_footballers']"
   ]
  },
  {
   "cell_type": "markdown",
   "metadata": {},
   "source": [
    "We have removed all nodes with no edges. But as mentioned above, due to time constraint we have only considered a few portion of the entire graph and some nodes may not have a link with in the nodes choosen. "
   ]
  },
  {
   "cell_type": "code",
   "execution_count": null,
   "metadata": {},
   "outputs": [],
   "source": [
    "fn.find_shortest_path(initial_nodes, destination_nodes)"
   ]
  },
  {
   "cell_type": "code",
   "execution_count": 3,
   "metadata": {},
   "outputs": [],
   "source": [
    "with open('dict.json')as f: \n",
    "    dic = json.load(f)"
   ]
  },
  {
   "cell_type": "markdown",
   "metadata": {},
   "source": [
    "dic is the result of the shortest path algorithm"
   ]
  },
  {
   "cell_type": "code",
   "execution_count": 44,
   "metadata": {},
   "outputs": [
    {
     "data": {
      "text/plain": [
       "3"
      ]
     },
     "execution_count": 44,
     "metadata": {},
     "output_type": "execute_result"
    }
   ],
   "source": [
    "fn.computeDist('82393','83651',dic)"
   ]
  },
  {
   "cell_type": "markdown",
   "metadata": {},
   "source": [
    "## Block ranking\n",
    "\n",
    "Our task is to sort the categories based on the median of all possible shortest path between input category and other categories. "
   ]
  },
  {
   "cell_type": "markdown",
   "metadata": {},
   "source": [
    "- Here we find the median between our categories. We use `shortest_path` function, which returns all possible shortest paths within a category, and the `distance` function finds the median of the shortest paths. "
   ]
  },
  {
   "cell_type": "code",
   "execution_count": 47,
   "metadata": {},
   "outputs": [
    {
     "name": "stdout",
     "output_type": "stream",
     "text": [
      "The_Football_League_players 4.0\n",
      "Association_football_forwards 4.0\n",
      "Association_football_goalkeepers 5.0\n",
      "Association_football_midfielders 4.0\n",
      "Association_football_defenders 5.0\n",
      "Living_people 6.0\n",
      "Harvard_University_alumni inf\n",
      "Major_League_Baseball_pitchers 8.0\n",
      "Members_of_the_United_Kingdom_Parliament_for_English_constituencies 5.0\n"
     ]
    }
   ],
   "source": [
    "categories = list(cat_ten.keys())\n",
    "median_distance = defaultdict(list)\n",
    "idx = 0\n",
    "C0 = categories[0]\n",
    "for Ci in categories:\n",
    "    if Ci != C0:\n",
    "        median_distance[Ci] = fn.distance(C0, Ci, cat_ten, dic)  \n",
    "        print(Ci, median_distance[Ci])\n",
    "        with open(\"median.json\", \"w\") as f:\n",
    "            json.dump(median_distance, f)    "
   ]
  },
  {
   "cell_type": "markdown",
   "metadata": {},
   "source": [
    "- Sort the categories in ascending order based on median"
   ]
  },
  {
   "cell_type": "code",
   "execution_count": 48,
   "metadata": {},
   "outputs": [
    {
     "data": {
      "text/plain": [
       "[('Harvard_University_alumni', inf),\n",
       " ('Major_League_Baseball_pitchers', 8.0),\n",
       " ('Living_people', 6.0),\n",
       " ('Association_football_goalkeepers', 5.0),\n",
       " ('Association_football_defenders', 5.0),\n",
       " ('Members_of_the_United_Kingdom_Parliament_for_English_constituencies', 5.0),\n",
       " ('The_Football_League_players', 4.0),\n",
       " ('Association_football_forwards', 4.0),\n",
       " ('Association_football_midfielders', 4.0)]"
      ]
     },
     "execution_count": 48,
     "metadata": {},
     "output_type": "execute_result"
    }
   ],
   "source": [
    "sorted_median = sorted(median_distance.items(), key=operator.itemgetter(1), reverse=True)     \n",
    "sorted_median"
   ]
  },
  {
   "cell_type": "markdown",
   "metadata": {},
   "source": [
    "After we obtain the block ranking, we need to sort the nodes inside each category based on number of edges. "
   ]
  },
  {
   "cell_type": "markdown",
   "metadata": {},
   "source": [
    "- Calculate the number of edges of each node in each category"
   ]
  },
  {
   "cell_type": "code",
   "execution_count": 57,
   "metadata": {},
   "outputs": [],
   "source": [
    "G2 = nx.DiGraph()\n",
    "edges = G.edges()\n",
    "for Ci in cat_ten:    \n",
    "    fn.update_score(G2, edges, Ci, cat_ten)"
   ]
  },
  {
   "cell_type": "markdown",
   "metadata": {},
   "source": [
    "Sort nodes based on score(number of in degree) $$(node, score)$$"
   ]
  },
  {
   "cell_type": "code",
   "execution_count": 71,
   "metadata": {},
   "outputs": [],
   "source": [
    "scores = sorted(nx.get_node_attributes(G2,'score').items(), key=lambda x: -x[1])"
   ]
  },
  {
   "cell_type": "markdown",
   "metadata": {},
   "source": [
    "Loop throug our block ranking and print the sorted nodes from each category"
   ]
  },
  {
   "cell_type": "code",
   "execution_count": 72,
   "metadata": {},
   "outputs": [],
   "source": [
    "rank = fn.rank(sorted_median, scores, cat_ten)"
   ]
  },
  {
   "cell_type": "markdown",
   "metadata": {},
   "source": [
    "creating the dictionary with the names of the nodes (articles) of wikipedia"
   ]
  },
  {
   "cell_type": "code",
   "execution_count": 73,
   "metadata": {},
   "outputs": [],
   "source": [
    "page_names = {}\n",
    "\n",
    "with open('wiki-topcats-page-names.txt') as f: \n",
    "    for line in f:\n",
    "        l = line.strip().split()\n",
    "        page_names[l[0]] = ' '.join(l[1:])"
   ]
  },
  {
   "cell_type": "markdown",
   "metadata": {},
   "source": [
    "printing the first 100 articles in the rank"
   ]
  },
  {
   "cell_type": "code",
   "execution_count": 74,
   "metadata": {},
   "outputs": [
    {
     "name": "stdout",
     "output_type": "stream",
     "text": [
      "John F. Kennedy\n",
      "Al Gore\n",
      "David Davis (British politician)\n",
      "Theodore Roosevelt\n",
      "Michael Dukakis\n",
      "Henry Kissinger\n",
      "Leonard Bernstein\n",
      "Robert F. Kennedy\n",
      "Jack Lemmon\n",
      "John Adams\n",
      "Conan O'Brien\n",
      "T. S. Eliot\n",
      "Lawrence Summers\n",
      "Jacques Chirac\n",
      "Natalie Portman\n",
      "John Quincy Adams\n",
      "John Ashbery\n",
      "Yvette Cooper\n",
      "Terrence Malick\n",
      "Darren Aronofsky\n",
      "William Waldegrave, Baron Waldegrave of North Hill\n",
      "Cole Porter\n",
      "Ban Ki-moon\n",
      "Mark Zuckerberg\n",
      "Pierre Trudeau\n",
      "Norman Mailer\n",
      "John Lithgow\n",
      "Frank O'Hara\n",
      "Jacques Derrida\n",
      "Michael Ignatieff\n",
      "Jeffrey Sachs\n",
      "Yo-Yo Ma\n",
      "William Weld\n",
      "James Bryant Conant\n",
      "Henry Cabot Lodge\n",
      "Mira Sorvino\n",
      "Cornel West\n",
      "David Rockefeller\n",
      "Steven Pinker\n",
      "George Plimpton\n",
      "James Russell Lowell\n",
      "Pete Seeger\n",
      "Daniel Dennett\n",
      "Saul Kripke\n",
      "Walter Piston\n",
      "Paul Samuelson\n",
      "Randall Thompson\n",
      "Tom Lehrer\n",
      "Robert Lowell\n",
      "William Randolph Hearst\n",
      "Robert Bly\n",
      "Kenneth Koch\n",
      "Samuel Adams\n",
      "Ben Bernanke\n",
      "Peter Benchley\n",
      "Henry Cabot Lodge, Jr.\n",
      "Archibald Cox\n",
      "Charles Sanders Peirce\n",
      "Charles Sumner\n",
      "Abbott Lawrence Lowell\n",
      "Hilary Putnam\n",
      "A. O. Scott\n",
      "Donald Davidson (philosopher)\n",
      "Willard Van Orman Quine\n",
      "Michelle Obama\n",
      "Caroline Kennedy\n",
      "Robert Solow\n",
      "Frank Gehry\n",
      "Leverett Saltonstall\n",
      "Benjamin Netanyahu\n",
      "Edward Gorey\n",
      "Benazir Bhutto\n",
      "C. Douglas Dillon\n",
      "Edward Everett\n",
      "Barney Frank\n",
      "Mira Nair\n",
      "William Kristol\n",
      "James Toback\n",
      "Elliot Richardson\n",
      "William S. Burroughs\n",
      "Paul Dini\n",
      "Rashida Jones\n",
      "Brian Greene\n",
      "John Updike\n",
      "Al Franken\n",
      "James Bowdoin\n",
      "John Hancock\n",
      "Ben Mezrich\n",
      "Rob Cohen\n",
      "John Yoo\n",
      "Shaun Woodward\n",
      "J. Robert Oppenheimer\n",
      "Herbert Marcuse\n",
      "Learned Hand\n",
      "William Rehnquist\n",
      "Thomas Nagel\n",
      "W. E. B. Du Bois\n",
      "Robert Benchley\n",
      "Zbigniew Brzezinski\n",
      "Pat Toomey\n"
     ]
    }
   ],
   "source": [
    "for i in range(100):\n",
    "    print(page_names[str(rank[i])])"
   ]
  }
 ],
 "metadata": {
  "kernelspec": {
   "display_name": "Python 3",
   "language": "python",
   "name": "python3"
  },
  "language_info": {
   "codemirror_mode": {
    "name": "ipython",
    "version": 3
   },
   "file_extension": ".py",
   "mimetype": "text/x-python",
   "name": "python",
   "nbconvert_exporter": "python",
   "pygments_lexer": "ipython3",
   "version": "3.6.5"
  }
 },
 "nbformat": 4,
 "nbformat_minor": 2
}
